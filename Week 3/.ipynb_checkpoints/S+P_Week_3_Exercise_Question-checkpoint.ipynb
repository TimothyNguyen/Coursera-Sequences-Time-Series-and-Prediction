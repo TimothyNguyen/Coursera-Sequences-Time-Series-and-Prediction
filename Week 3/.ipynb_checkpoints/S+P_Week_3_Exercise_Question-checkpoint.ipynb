{
 "cells": [
  {
   "cell_type": "code",
   "execution_count": 1,
   "metadata": {
    "id": "zX4Kg8DUTKWO"
   },
   "outputs": [],
   "source": [
    "#@title Licensed under the Apache License, Version 2.0 (the \"License\");\n",
    "# you may not use this file except in compliance with the License.\n",
    "# You may obtain a copy of the License at\n",
    "#\n",
    "# https://www.apache.org/licenses/LICENSE-2.0\n",
    "#\n",
    "# Unless required by applicable law or agreed to in writing, software\n",
    "# distributed under the License is distributed on an \"AS IS\" BASIS,\n",
    "# WITHOUT WARRANTIES OR CONDITIONS OF ANY KIND, either express or implied.\n",
    "# See the License for the specific language governing permissions and\n",
    "# limitations under the License."
   ]
  },
  {
   "cell_type": "code",
   "execution_count": 2,
   "metadata": {
    "id": "D1J15Vh_1Jih"
   },
   "outputs": [
    {
     "name": "stderr",
     "output_type": "stream",
     "text": [
      "ERROR: Could not find a version that satisfies the requirement tf-nightly-2.0-preview\n",
      "ERROR: No matching distribution found for tf-nightly-2.0-preview\n"
     ]
    }
   ],
   "source": [
    "!pip install tf-nightly-2.0-preview\n"
   ]
  },
  {
   "cell_type": "code",
   "execution_count": 3,
   "metadata": {
    "id": "BOjujz601HcS"
   },
   "outputs": [
    {
     "name": "stdout",
     "output_type": "stream",
     "text": [
      "2.5.0\n"
     ]
    }
   ],
   "source": [
    "import tensorflow as tf\n",
    "import numpy as np\n",
    "import matplotlib.pyplot as plt\n",
    "print(tf.__version__)"
   ]
  },
  {
   "cell_type": "code",
   "execution_count": 4,
   "metadata": {
    "id": "Zswl7jRtGzkk"
   },
   "outputs": [
    {
     "data": {
      "image/png": "[encoded data removed]",
      "text/plain": [
       "<Figure size 432x288 with 1 Axes>"
      ]
     },
     "metadata": {
      "needs_background": "light"
     },
     "output_type": "display_data"
    }
   ],
   "source": [
    "def plot_series(time, series, format=\"-\", start=0, end=None):\n",
    "    plt.plot(time[start:end], series[start:end], format)\n",
    "    plt.xlabel(\"Time\")\n",
    "    plt.ylabel(\"Value\")\n",
    "    plt.grid(False)\n",
    "\n",
    "def trend(time, slope=0):\n",
    "    return slope * time\n",
    "\n",
    "def seasonal_pattern(season_time):\n",
    "    \"\"\"Just an arbitrary pattern, you can change it if you wish\"\"\"\n",
    "    return np.where(season_time < 0.1,\n",
    "                    np.cos(season_time * 6 * np.pi),\n",
    "                    2 / np.exp(9 * season_time))\n",
    "\n",
    "def seasonality(time, period, amplitude=1, phase=0):\n",
    "    \"\"\"Repeats the same pattern at each period\"\"\"\n",
    "    season_time = ((time + phase) % period) / period\n",
    "    return amplitude * seasonal_pattern(season_time)\n",
    "\n",
    "def noise(time, noise_level=1, seed=None):\n",
    "    rnd = np.random.RandomState(seed)\n",
    "    return rnd.randn(len(time)) * noise_level\n",
    "\n",
    "time = np.arange(10 * 365 + 1, dtype=\"float32\")\n",
    "baseline = 10\n",
    "series = trend(time, 0.1)  \n",
    "baseline = 10\n",
    "amplitude = 40\n",
    "slope = 0.005\n",
    "noise_level = 3\n",
    "\n",
    "# Create the series\n",
    "series = baseline + trend(time, slope) + seasonality(time, period=365, amplitude=amplitude)\n",
    "# Update with noise\n",
    "series += noise(time, noise_level, seed=51)\n",
    "\n",
    "split_time = 3000\n",
    "time_train = time[:split_time]\n",
    "x_train = series[:split_time]\n",
    "time_valid = time[split_time:]\n",
    "x_valid = series[split_time:]\n",
    "\n",
    "window_size = 20\n",
    "batch_size = 32\n",
    "shuffle_buffer_size = 1000\n",
    "\n",
    "plot_series(time, series)"
   ]
  },
  {
   "cell_type": "code",
   "execution_count": 5,
   "metadata": {
    "id": "4sTTIOCbyShY"
   },
   "outputs": [],
   "source": [
    "def windowed_dataset(series, window_size, batch_size, shuffle_buffer):\n",
    "  dataset = tf.data.Dataset.from_tensor_slices(series)\n",
    "  dataset = dataset.window(window_size + 1, shift=1, drop_remainder=True)\n",
    "  dataset = dataset.flat_map(lambda window: window.batch(window_size + 1))\n",
    "  dataset = dataset.shuffle(shuffle_buffer).map(lambda window: (window[:-1], window[-1]))\n",
    "  dataset = dataset.batch(batch_size).prefetch(1)\n",
    "  return dataset"
   ]
  },
  {
   "cell_type": "code",
   "execution_count": 7,
   "metadata": {
    "id": "A1Hl39rklkLm"
   },
   "outputs": [
    {
     "name": "stderr",
     "output_type": "stream",
     "text": [
      "C:\\Users\\TIMOTHY_NGUYEN3\\Anaconda3\\lib\\site-packages\\tensorflow\\python\\keras\\optimizer_v2\\optimizer_v2.py:374: UserWarning: The `lr` argument is deprecated, use `learning_rate` instead.\n",
      "  warnings.warn(\n"
     ]
    },
    {
     "name": "stdout",
     "output_type": "stream",
     "text": [
      "Epoch 1/100\n",
      "94/94 [==============================] - 6s 14ms/step - loss: 20.3828 - mae: 20.8828\n",
      "Epoch 2/100\n",
      "94/94 [==============================] - 1s 11ms/step - loss: 20.3543 - mae: 20.8543\n",
      "Epoch 3/100\n",
      "94/94 [==============================] - 1s 11ms/step - loss: 20.3218 - mae: 20.8218\n",
      "Epoch 4/100\n",
      "94/94 [==============================] - 1s 11ms/step - loss: 20.2852 - mae: 20.7851\n",
      "Epoch 5/100\n",
      "94/94 [==============================] - 1s 11ms/step - loss: 20.2436 - mae: 20.7436\n",
      "Epoch 6/100\n",
      "94/94 [==============================] - 1s 13ms/step - loss: 20.1964 - mae: 20.6964\n",
      "Epoch 7/100\n",
      "94/94 [==============================] - 1s 14ms/step - loss: 20.1429 - mae: 20.6429\n",
      "Epoch 8/100\n",
      "94/94 [==============================] - 1s 14ms/step - loss: 20.0823 - mae: 20.5823\n",
      "Epoch 9/100\n",
      "94/94 [==============================] - 1s 14ms/step - loss: 20.0140 - mae: 20.5140: 1s - loss: \n",
      "Epoch 10/100\n",
      "94/94 [==============================] - 2s 16ms/step - loss: 19.9385 - mae: 20.4385\n",
      "Epoch 11/100\n",
      "94/94 [==============================] - 1s 15ms/step - loss: 19.8585 - mae: 20.3585\n",
      "Epoch 12/100\n",
      "94/94 [==============================] - 1s 14ms/step - loss: 19.7777 - mae: 20.2777\n",
      "Epoch 13/100\n",
      "94/94 [==============================] - 1s 14ms/step - loss: 19.6968 - mae: 20.1968\n",
      "Epoch 14/100\n",
      "94/94 [==============================] - 1s 15ms/step - loss: 19.6109 - mae: 20.1109\n",
      "Epoch 15/100\n",
      "94/94 [==============================] - 2s 15ms/step - loss: 19.5163 - mae: 20.0163\n",
      "Epoch 16/100\n",
      "94/94 [==============================] - 1s 14ms/step - loss: 19.4109 - mae: 19.9109\n",
      "Epoch 17/100\n",
      "94/94 [==============================] - 1s 15ms/step - loss: 19.2932 - mae: 19.7932\n",
      "Epoch 18/100\n",
      "94/94 [==============================] - 1s 14ms/step - loss: 19.1618 - mae: 19.6618\n",
      "Epoch 19/100\n",
      "94/94 [==============================] - 1s 13ms/step - loss: 19.0149 - mae: 19.5148\n",
      "Epoch 20/100\n",
      "94/94 [==============================] - 1s 14ms/step - loss: 18.8504 - mae: 19.3502\n",
      "Epoch 21/100\n",
      "94/94 [==============================] - 1s 13ms/step - loss: 18.6658 - mae: 19.1656\n",
      "Epoch 22/100\n",
      "94/94 [==============================] - 1s 13ms/step - loss: 18.4587 - mae: 18.9583\n",
      "Epoch 23/100\n",
      "94/94 [==============================] - 1s 14ms/step - loss: 18.2256 - mae: 18.7249\n",
      "Epoch 24/100\n",
      "94/94 [==============================] - 1s 13ms/step - loss: 17.9631 - mae: 18.4621\n",
      "Epoch 25/100\n",
      "94/94 [==============================] - 1s 13ms/step - loss: 17.6667 - mae: 18.1655\n",
      "Epoch 26/100\n",
      "94/94 [==============================] - 1s 13ms/step - loss: 17.3323 - mae: 17.8312\n",
      "Epoch 27/100\n",
      "94/94 [==============================] - 1s 14ms/step - loss: 16.9562 - mae: 17.4554\n",
      "Epoch 28/100\n",
      "94/94 [==============================] - 1s 15ms/step - loss: 16.5359 - mae: 17.0350\n",
      "Epoch 29/100\n",
      "94/94 [==============================] - 1s 14ms/step - loss: 16.0721 - mae: 16.5714\n",
      "Epoch 30/100\n",
      "94/94 [==============================] - 1s 14ms/step - loss: 15.5645 - mae: 16.0630\n",
      "Epoch 31/100\n",
      "94/94 [==============================] - 1s 13ms/step - loss: 15.0131 - mae: 15.5113\n",
      "Epoch 32/100\n",
      "94/94 [==============================] - 1s 14ms/step - loss: 14.4169 - mae: 14.9140\n",
      "Epoch 33/100\n",
      "94/94 [==============================] - 1s 13ms/step - loss: 13.7764 - mae: 14.2730\n",
      "Epoch 34/100\n",
      "94/94 [==============================] - 1s 13ms/step - loss: 13.0955 - mae: 13.5900\n",
      "Epoch 35/100\n",
      "94/94 [==============================] - 1s 13ms/step - loss: 12.3846 - mae: 12.8770\n",
      "Epoch 36/100\n",
      "94/94 [==============================] - 1s 13ms/step - loss: 11.6591 - mae: 12.1503\n",
      "Epoch 37/100\n",
      "94/94 [==============================] - 1s 14ms/step - loss: 10.9345 - mae: 11.4246\n",
      "Epoch 38/100\n",
      "94/94 [==============================] - 1s 13ms/step - loss: 10.2310 - mae: 10.7178\n",
      "Epoch 39/100\n",
      "94/94 [==============================] - 1s 14ms/step - loss: 9.5739 - mae: 10.0572\n",
      "Epoch 40/100\n",
      "94/94 [==============================] - 1s 14ms/step - loss: 8.9922 - mae: 9.4767\n",
      "Epoch 41/100\n",
      "94/94 [==============================] - 1s 14ms/step - loss: 8.4929 - mae: 8.9762\n",
      "Epoch 42/100\n",
      "94/94 [==============================] - 1s 13ms/step - loss: 8.0732 - mae: 8.5559\n",
      "Epoch 43/100\n",
      "94/94 [==============================] - 1s 14ms/step - loss: 7.7375 - mae: 8.2186\n",
      "Epoch 44/100\n",
      "94/94 [==============================] - 1s 14ms/step - loss: 7.4800 - mae: 7.9611\n",
      "Epoch 45/100\n",
      "94/94 [==============================] - 1s 13ms/step - loss: 7.2799 - mae: 7.7611\n",
      "Epoch 46/100\n",
      "94/94 [==============================] - 1s 15ms/step - loss: 7.1259 - mae: 7.6089\n",
      "Epoch 47/100\n",
      "94/94 [==============================] - 1s 14ms/step - loss: 6.9972 - mae: 7.4794\n",
      "Epoch 48/100\n",
      "94/94 [==============================] - 1s 14ms/step - loss: 6.8882 - mae: 7.3684\n",
      "Epoch 49/100\n",
      "94/94 [==============================] - 1s 13ms/step - loss: 6.7790 - mae: 7.2586\n",
      "Epoch 50/100\n",
      "94/94 [==============================] - 1s 14ms/step - loss: 6.6710 - mae: 7.1513\n",
      "Epoch 51/100\n",
      "94/94 [==============================] - 1s 15ms/step - loss: 6.5490 - mae: 7.0292\n",
      "Epoch 52/100\n",
      "94/94 [==============================] - 2s 17ms/step - loss: 6.3435 - mae: 6.8203\n",
      "Epoch 53/100\n",
      "94/94 [==============================] - 2s 15ms/step - loss: 5.9019 - mae: 6.3736\n",
      "Epoch 54/100\n",
      "94/94 [==============================] - 2s 16ms/step - loss: 5.6925 - mae: 6.1635\n",
      "Epoch 55/100\n",
      "94/94 [==============================] - 1s 15ms/step - loss: 5.5132 - mae: 5.9845\n",
      "Epoch 56/100\n",
      "94/94 [==============================] - 1s 14ms/step - loss: 5.3014 - mae: 5.7677\n",
      "Epoch 57/100\n",
      "94/94 [==============================] - 1s 14ms/step - loss: 5.1778 - mae: 5.6485\n",
      "Epoch 58/100\n",
      "94/94 [==============================] - 2s 17ms/step - loss: 5.0339 - mae: 5.5023\n",
      "Epoch 59/100\n",
      "94/94 [==============================] - 2s 15ms/step - loss: 4.8640 - mae: 5.3295\n",
      "Epoch 60/100\n",
      "94/94 [==============================] - 1s 14ms/step - loss: 4.7670 - mae: 5.2320\n",
      "Epoch 61/100\n",
      "94/94 [==============================] - 1s 14ms/step - loss: 4.6816 - mae: 5.1469\n",
      "Epoch 62/100\n",
      "94/94 [==============================] - 2s 16ms/step - loss: 4.5836 - mae: 5.0500\n",
      "Epoch 63/100\n",
      "94/94 [==============================] - 2s 17ms/step - loss: 4.5919 - mae: 5.0578\n",
      "Epoch 64/100\n",
      "94/94 [==============================] - 2s 17ms/step - loss: 4.5364 - mae: 5.0037\n",
      "Epoch 65/100\n",
      "94/94 [==============================] - 2s 17ms/step - loss: 4.5465 - mae: 5.0131\n",
      "Epoch 66/100\n",
      "94/94 [==============================] - 2s 17ms/step - loss: 4.3606 - mae: 4.8268\n",
      "Epoch 67/100\n",
      "94/94 [==============================] - 2s 15ms/step - loss: 4.1545 - mae: 4.6179\n",
      "Epoch 68/100\n",
      "94/94 [==============================] - 1s 14ms/step - loss: 4.1988 - mae: 4.6648\n",
      "Epoch 69/100\n",
      "94/94 [==============================] - 1s 14ms/step - loss: 4.1374 - mae: 4.6021\n",
      "Epoch 70/100\n",
      "94/94 [==============================] - 1s 14ms/step - loss: 3.9887 - mae: 4.4522\n",
      "Epoch 71/100\n",
      "94/94 [==============================] - 1s 14ms/step - loss: 3.8968 - mae: 4.3629\n",
      "Epoch 72/100\n",
      "94/94 [==============================] - 2s 15ms/step - loss: 3.8675 - mae: 4.3300\n",
      "Epoch 73/100\n",
      "94/94 [==============================] - 1s 14ms/step - loss: 3.8810 - mae: 4.3480\n",
      "Epoch 74/100\n",
      "94/94 [==============================] - 1s 14ms/step - loss: 3.7358 - mae: 4.2006\n",
      "Epoch 75/100\n",
      "94/94 [==============================] - 1s 14ms/step - loss: 3.6958 - mae: 4.1587\n",
      "Epoch 76/100\n",
      "94/94 [==============================] - 1s 14ms/step - loss: 3.6157 - mae: 4.0791\n",
      "Epoch 77/100\n",
      "94/94 [==============================] - 1s 14ms/step - loss: 3.4902 - mae: 3.9563\n",
      "Epoch 78/100\n",
      "94/94 [==============================] - 1s 14ms/step - loss: 3.3754 - mae: 3.8399\n",
      "Epoch 79/100\n",
      "94/94 [==============================] - 1s 14ms/step - loss: 3.2709 - mae: 3.7341\n",
      "Epoch 80/100\n",
      "94/94 [==============================] - 1s 14ms/step - loss: 3.2980 - mae: 3.7622\n",
      "Epoch 81/100\n",
      "94/94 [==============================] - 1s 14ms/step - loss: 3.0868 - mae: 3.5511\n",
      "Epoch 82/100\n",
      "94/94 [==============================] - 1s 14ms/step - loss: 3.0467 - mae: 3.5115\n",
      "Epoch 83/100\n",
      "94/94 [==============================] - 1s 14ms/step - loss: 3.1009 - mae: 3.5673\n",
      "Epoch 84/100\n",
      "94/94 [==============================] - 1s 15ms/step - loss: 3.0615 - mae: 3.5254\n",
      "Epoch 85/100\n",
      "94/94 [==============================] - 1s 13ms/step - loss: 3.0476 - mae: 3.5092\n",
      "Epoch 86/100\n",
      "94/94 [==============================] - 1s 13ms/step - loss: 3.0298 - mae: 3.4927\n",
      "Epoch 87/100\n",
      "94/94 [==============================] - 1s 14ms/step - loss: 3.0321 - mae: 3.4974\n",
      "Epoch 88/100\n",
      "94/94 [==============================] - 1s 15ms/step - loss: 2.9108 - mae: 3.3756\n",
      "Epoch 89/100\n",
      "94/94 [==============================] - 1s 14ms/step - loss: 3.1920 - mae: 3.6614\n",
      "Epoch 90/100\n",
      "94/94 [==============================] - 1s 15ms/step - loss: 3.2251 - mae: 3.6927\n",
      "Epoch 91/100\n",
      "94/94 [==============================] - 1s 14ms/step - loss: 2.9698 - mae: 3.4347\n",
      "Epoch 92/100\n",
      "94/94 [==============================] - 2s 16ms/step - loss: 2.9822 - mae: 3.4477\n",
      "Epoch 93/100\n",
      "94/94 [==============================] - 1s 15ms/step - loss: 2.9158 - mae: 3.3794\n",
      "Epoch 94/100\n",
      "94/94 [==============================] - 2s 17ms/step - loss: 3.0133 - mae: 3.4769\n",
      "Epoch 95/100\n",
      "94/94 [==============================] - 2s 19ms/step - loss: 3.0559 - mae: 3.5184\n",
      "Epoch 96/100\n",
      "94/94 [==============================] - 2s 17ms/step - loss: 2.9922 - mae: 3.4620\n",
      "Epoch 97/100\n",
      "94/94 [==============================] - 2s 16ms/step - loss: 2.9031 - mae: 3.3705\n",
      "Epoch 98/100\n",
      "94/94 [==============================] - 2s 16ms/step - loss: 2.8607 - mae: 3.3257\n",
      "Epoch 99/100\n",
      "94/94 [==============================] - 2s 18ms/step - loss: 2.7768 - mae: 3.2377\n",
      "Epoch 100/100\n",
      "94/94 [==============================] - 2s 17ms/step - loss: 3.4258 - mae: 3.8966\n"
     ]
    }
   ],
   "source": [
    "tf.keras.backend.clear_session()\n",
    "tf.random.set_seed(51)\n",
    "np.random.seed(51)\n",
    "\n",
    "tf.keras.backend.clear_session()\n",
    "dataset = windowed_dataset(x_train, window_size, batch_size, shuffle_buffer_size)\n",
    "\n",
    "model = tf.keras.models.Sequential([\n",
    "  tf.keras.layers.Lambda(lambda x: tf.expand_dims(x, axis=-1),\n",
    "                      input_shape=[None]),\n",
    "  tf.keras.layers.Bidirectional(tf.keras.layers.LSTM(32, return_sequences=True)),\n",
    "  tf.keras.layers.Bidirectional(tf.keras.layers.LSTM(32)),\n",
    "  tf.keras.layers.Dense(1),\n",
    "  tf.keras.layers.Lambda(lambda x: x * 10.0)\n",
    "])\n",
    "\n",
    "lr_schedule = tf.keras.callbacks.LearningRateScheduler(\n",
    "    lambda epoch: 1e-8 * 10**(epoch / 20))\n",
    "optimizer = tf.keras.optimizers.SGD(lr=1e-8, momentum=0.9)\n",
    "model.compile(loss=tf.keras.losses.Huber(),\n",
    "              optimizer=optimizer,\n",
    "              metrics=[\"mae\"])\n",
    "history = model.fit(dataset, epochs=100, callbacks=[lr_schedule])"
   ]
  },
  {
   "cell_type": "code",
   "execution_count": 9,
   "metadata": {
    "id": "AkBsrsXMzoWR"
   },
   "outputs": [
    {
     "data": {
      "text/plain": [
       "(1e-08, 0.0001, 0.0, 30.0)"
      ]
     },
     "execution_count": 9,
     "metadata": {},
     "output_type": "execute_result"
    },
    {
     "data": {
      "image/png": "[encoded data removed]",
      "text/plain": [
       "<Figure size 432x288 with 1 Axes>"
      ]
     },
     "metadata": {
      "needs_background": "light"
     },
     "output_type": "display_data"
    }
   ],
   "source": [
    "plt.semilogx(history.history[\"lr\"], history.history[\"loss\"])\n",
    "plt.axis([1e-8, 1e-4, 0, 30])\n",
    "\n",
    "# FROM THIS PICK A LEARNING RATE"
   ]
  },
  {
   "cell_type": "code",
   "execution_count": null,
   "metadata": {
    "id": "4uh-97bpLZCA"
   },
   "outputs": [
    {
     "name": "stdout",
     "output_type": "stream",
     "text": [
      "Epoch 1/500\n",
      "94/94 [==============================] - 6s 11ms/step - loss: 263.1985 - mae: 10.1378\n",
      "Epoch 2/500\n",
      "94/94 [==============================] - 1s 11ms/step - loss: 33.6153 - mae: 3.9017\n",
      "Epoch 3/500\n",
      "94/94 [==============================] - 1s 11ms/step - loss: 27.7103 - mae: 3.5518\n",
      "Epoch 4/500\n",
      "94/94 [==============================] - 1s 11ms/step - loss: 31.9160 - mae: 3.9759\n",
      "Epoch 5/500\n",
      "94/94 [==============================] - 1s 11ms/step - loss: 27.1127 - mae: 3.5515\n",
      "Epoch 6/500\n",
      "94/94 [==============================] - 1s 11ms/step - loss: 25.7764 - mae: 3.4461\n",
      "Epoch 7/500\n",
      "94/94 [==============================] - 1s 11ms/step - loss: 32.1397 - mae: 3.9959\n",
      "Epoch 8/500\n",
      "94/94 [==============================] - 1s 11ms/step - loss: 27.8369 - mae: 3.6121\n",
      "Epoch 9/500\n",
      "94/94 [==============================] - 1s 11ms/step - loss: 29.2938 - mae: 3.8187\n",
      "Epoch 10/500\n",
      "94/94 [==============================] - 1s 11ms/step - loss: 28.0733 - mae: 3.6757\n",
      "Epoch 11/500\n",
      "94/94 [==============================] - 1s 11ms/step - loss: 27.6546 - mae: 3.6672\n",
      "Epoch 12/500\n",
      "94/94 [==============================] - 1s 11ms/step - loss: 25.2645 - mae: 3.4160\n",
      "Epoch 13/500\n",
      "94/94 [==============================] - 1s 11ms/step - loss: 28.1417 - mae: 3.7027\n",
      "Epoch 14/500\n",
      "94/94 [==============================] - 1s 11ms/step - loss: 26.9170 - mae: 3.5711\n",
      "Epoch 15/500\n",
      "94/94 [==============================] - 1s 12ms/step - loss: 25.8985 - mae: 3.4787\n",
      "Epoch 16/500\n",
      "94/94 [==============================] - 1s 14ms/step - loss: 29.4808 - mae: 3.8158\n",
      "Epoch 17/500\n",
      "94/94 [==============================] - 1s 13ms/step - loss: 24.2143 - mae: 3.3191\n",
      "Epoch 18/500\n",
      "94/94 [==============================] - 1s 14ms/step - loss: 26.4903 - mae: 3.5473\n",
      "Epoch 19/500\n",
      "94/94 [==============================] - 1s 14ms/step - loss: 25.5329 - mae: 3.4825\n",
      "Epoch 20/500\n",
      "94/94 [==============================] - 1s 14ms/step - loss: 25.1893 - mae: 3.4211\n",
      "Epoch 21/500\n",
      "94/94 [==============================] - 1s 14ms/step - loss: 27.1047 - mae: 3.5829\n",
      "Epoch 22/500\n",
      "94/94 [==============================] - 1s 15ms/step - loss: 24.7341 - mae: 3.3448\n",
      "Epoch 23/500\n",
      "94/94 [==============================] - 1s 15ms/step - loss: 28.0723 - mae: 3.7013\n",
      "Epoch 24/500\n",
      "94/94 [==============================] - 2s 15ms/step - loss: 25.0950 - mae: 3.4339\n",
      "Epoch 25/500\n",
      "94/94 [==============================] - 2s 17ms/step - loss: 24.3323 - mae: 3.3488\n",
      "Epoch 26/500\n",
      "94/94 [==============================] - 2s 15ms/step - loss: 25.9359 - mae: 3.5183\n",
      "Epoch 27/500\n",
      "94/94 [==============================] - 1s 14ms/step - loss: 29.6889 - mae: 3.7865\n",
      "Epoch 28/500\n",
      "94/94 [==============================] - 1s 15ms/step - loss: 27.8245 - mae: 3.7044\n",
      "Epoch 29/500\n",
      "94/94 [==============================] - 1s 14ms/step - loss: 23.8184 - mae: 3.3226\n",
      "Epoch 30/500\n",
      "94/94 [==============================] - 1s 14ms/step - loss: 23.6580 - mae: 3.2755\n",
      "Epoch 31/500\n",
      "73/94 [======================>.......] - ETA: 0s - loss: 24.7026 - mae: 3.3990"
     ]
    }
   ],
   "source": [
    "tf.keras.backend.clear_session()\n",
    "tf.random.set_seed(51)\n",
    "np.random.seed(51)\n",
    "\n",
    "tf.keras.backend.clear_session()\n",
    "dataset = windowed_dataset(x_train, window_size, batch_size, shuffle_buffer_size)\n",
    "\n",
    "model = tf.keras.models.Sequential([\n",
    "  tf.keras.layers.Lambda(lambda x: tf.expand_dims(x, axis=-1),\n",
    "                      input_shape=[None]),\n",
    "  tf.keras.layers.Bidirectional(tf.keras.layers.LSTM(32, return_sequences=True)),\n",
    "  tf.keras.layers.Bidirectional(tf.keras.layers.LSTM(32)),\n",
    "  tf.keras.layers.Dense(1),\n",
    "  tf.keras.layers.Lambda(lambda x: x * 100.0)\n",
    "])\n",
    "\n",
    "model.compile(loss=\"mse\", optimizer=tf.keras.optimizers.SGD(lr=1e-5, momentum=0.9),metrics=[\"mae\"])\n",
    "history = model.fit(dataset,epochs=500,verbose=1)\n",
    "                                                            \n",
    "# FIND A MODEL AND A LR THAT TRAINS TO AN MAE < 3                                                          "
   ]
  },
  {
   "cell_type": "code",
   "execution_count": null,
   "metadata": {
    "id": "icGDaND7z0ne"
   },
   "outputs": [],
   "source": [
    "forecast = []\n",
    "results = []\n",
    "for time in range(len(series) - window_size):\n",
    "  forecast.append(model.predict(series[time:time + window_size][np.newaxis]))\n",
    "\n",
    "forecast = forecast[split_time-window_size:]\n",
    "results = np.array(forecast)[:, 0, 0]\n",
    "\n",
    "\n",
    "plt.figure(figsize=(10, 6))\n",
    "\n",
    "plot_series(time_valid, x_valid)\n",
    "plot_series(time_valid, results)"
   ]
  },
  {
   "cell_type": "code",
   "execution_count": null,
   "metadata": {
    "colab": {
     "base_uri": "https://localhost:8080/",
     "height": 164
    },
    "id": "KfPeqI7rz4LD",
    "outputId": "5cbee203-d2e8-455e-f603-204d9df993dc"
   },
   "outputs": [],
   "source": [
    "tf.keras.metrics.mean_absolute_error(x_valid, results).numpy()\n",
    "\n",
    "# YOUR RESULT HERE SHOULD BE LESS THAN 4"
   ]
  },
  {
   "cell_type": "code",
   "execution_count": null,
   "metadata": {
    "id": "JUsdZB_tzDLe"
   },
   "outputs": [],
   "source": [
    "import matplotlib.image  as mpimg\n",
    "import matplotlib.pyplot as plt\n",
    "\n",
    "#-----------------------------------------------------------\n",
    "# Retrieve a list of list results on training and test data\n",
    "# sets for each training epoch\n",
    "#-----------------------------------------------------------\n",
    "mae=history.history['mae']\n",
    "loss=history.history['loss']\n",
    "\n",
    "epochs=range(len(loss)) # Get number of epochs\n",
    "\n",
    "#------------------------------------------------\n",
    "# Plot MAE and Loss\n",
    "#------------------------------------------------\n",
    "plt.plot(epochs, mae, 'r')\n",
    "plt.plot(epochs, loss, 'b')\n",
    "plt.title('MAE and Loss')\n",
    "plt.xlabel(\"Epochs\")\n",
    "plt.ylabel(\"Accuracy\")\n",
    "plt.legend([\"MAE\", \"Loss\"])\n",
    "\n",
    "plt.figure()\n",
    "\n",
    "epochs_zoom = epochs[200:]\n",
    "mae_zoom = mae[200:]\n",
    "loss_zoom = loss[200:]\n",
    "\n",
    "#------------------------------------------------\n",
    "# Plot Zoomed MAE and Loss\n",
    "#------------------------------------------------\n",
    "plt.plot(epochs_zoom, mae_zoom, 'r')\n",
    "plt.plot(epochs_zoom, loss_zoom, 'b')\n",
    "plt.title('MAE and Loss')\n",
    "plt.xlabel(\"Epochs\")\n",
    "plt.ylabel(\"Accuracy\")\n",
    "plt.legend([\"MAE\", \"Loss\"])\n",
    "\n",
    "plt.figure()"
   ]
  },
  {
   "cell_type": "code",
   "execution_count": null,
   "metadata": {},
   "outputs": [],
   "source": []
  }
 ],
 "metadata": {
  "accelerator": "GPU",
  "colab": {
   "collapsed_sections": [],
   "name": "S+P Week 3 Exercise Question.ipynb",
   "provenance": [],
   "toc_visible": true
  },
  "kernelspec": {
   "display_name": "Python 3",
   "language": "python",
   "name": "python3"
  },
  "language_info": {
   "codemirror_mode": {
    "name": "ipython",
    "version": 3
   },
   "file_extension": ".py",
   "mimetype": "text/x-python",
   "name": "python",
   "nbconvert_exporter": "python",
   "pygments_lexer": "ipython3",
   "version": "3.8.8"
  }
 },
 "nbformat": 4,
 "nbformat_minor": 4
}
